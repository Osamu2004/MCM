{
 "cells": [
  {
   "cell_type": "markdown",
   "id": "bd496586",
   "metadata": {},
   "source": [
    "## 绘制残差图"
   ]
  },
  {
   "cell_type": "code",
   "execution_count": 2,
   "id": "ccf27956",
   "metadata": {},
   "outputs": [
    {
     "data": {
      "image/png": "[encoded data removed]",
      "text/plain": [
       "<Figure size 640x480 with 1 Axes>"
      ]
     },
     "metadata": {},
     "output_type": "display_data"
    }
   ],
   "source": [
    "import numpy as np\n",
    "import matplotlib.pyplot as plt\n",
    "\n",
    "# 示例数据（替换为你自己的实际数据）\n",
    "actual_values = np.array([1, 2, 3, 4, 5, 6, 7, 8, 9, 10])\n",
    "predicted_values = np.array([1.2, 2.5, 2.8, 4.1, 5.2, 5.9, 7.1, 8.2, 9.5, 10.1])\n",
    "\n",
    "# 计算残差\n",
    "residuals = actual_values - predicted_values\n",
    "\n",
    "# 绘制残差图\n",
    "plt.scatter(predicted_values, residuals, c='b', marker='o', label='Residuals')\n",
    "plt.axhline(y=0, color='r', linestyle='--', label='Zero Residual')\n",
    "plt.xlabel('Predicted Values')\n",
    "plt.ylabel('Residuals')\n",
    "plt.title('Residual Plot')\n",
    "plt.legend()\n",
    "plt.grid(True)\n",
    "plt.show()"
   ]
  },
  {
   "cell_type": "markdown",
   "id": "b15c38db",
   "metadata": {},
   "source": [
    "## 计算百分数"
   ]
  },
  {
   "cell_type": "code",
   "execution_count": 3,
   "id": "abbce8a9",
   "metadata": {},
   "outputs": [
    {
     "name": "stdout",
     "output_type": "stream",
     "text": [
      "中位数（50%百分位数）: 16.5\n",
      "第25%百分位数（第一四分位数）: 9.75\n",
      "第75%百分位数（第三四分位数）: 29.75\n"
     ]
    }
   ],
   "source": [
    "import numpy as np\n",
    "\n",
    "def percentile(data, p):\n",
    "    \"\"\"\n",
    "    计算给定数据data的百分位数\n",
    "    参数:\n",
    "    data: 一维数组或列表，包含要计算的数据\n",
    "    p: 百分位数，取值范围为[0, 100]\n",
    "    返回值:\n",
    "    百分位数的值\n",
    "    \"\"\"\n",
    "    # 将数据按升序排序\n",
    "    sorted_data = np.sort(data)\n",
    "    # 数据的长度\n",
    "    n = len(sorted_data)\n",
    "    # 计算百分位数对应的索引位置\n",
    "    index = (p / 100) * (n - 1)\n",
    "    \n",
    "    if index.is_integer():\n",
    "        # 如果索引是整数，直接返回该索引位置的值\n",
    "        return sorted_data[int(index)]\n",
    "    else:\n",
    "        # 如果索引是浮点数，进行线性插值\n",
    "        lower_index = int(index // 1)\n",
    "        upper_index = lower_index + 1\n",
    "        lower_value = sorted_data[lower_index]\n",
    "        upper_value = sorted_data[upper_index]\n",
    "        # 根据索引位置和两个最近的值，进行线性插值计算百分位数的值\n",
    "        return lower_value + (index % 1) * (upper_value - lower_value)\n",
    "\n",
    "# 示例数据\n",
    "data = [12, 45, 7, 23, 9, 32, 15, 49, 5, 18]\n",
    "\n",
    "# 计算中位数（50%百分位数）\n",
    "median = percentile(data, 50)\n",
    "print(\"中位数（50%百分位数）:\", median)\n",
    "\n",
    "# 计算第25%百分位数（第一四分位数）\n",
    "q1 = percentile(data, 25)\n",
    "print(\"第25%百分位数（第一四分位数）:\", q1)\n",
    "\n",
    "# 计算第75%百分位数（第三四分位数）\n",
    "q3 = percentile(data, 75)\n",
    "print(\"第75%百分位数（第三四分位数）:\", q3)\n"
   ]
  },
  {
   "cell_type": "markdown",
   "id": "5ba80fca",
   "metadata": {},
   "source": [
    "## BP检验\n",
    "Breusch-Pagan检验（BP检验）是用于检验线性回归模型的异方差性（方差不恒定）的一种统计方法。"
   ]
  },
  {
   "cell_type": "code",
   "execution_count": null,
   "id": "b97cefff",
   "metadata": {},
   "outputs": [],
   "source": [
    "from statsmodels.stats.diagnostic import het_breuschpagan #BP检验"
   ]
  },
  {
   "cell_type": "markdown",
   "id": "027a55f0",
   "metadata": {},
   "source": [
    "het_breuschpagan(resid, exog_het, robust=True)  \n",
    "参数介绍:  \n",
    "resid:残差  \n",
    "exog_het:用于bp检验的自变量  \n",
    "\n",
    "返回值：\n",
    "lm : LM统计量值  \n",
    "lm_pvalue : LM统计量的p值，若p值小于显著性水平，则拒绝残差方差为常数的原假设，即存在异方差性  \n",
    "fvalue : F统计量值，用来检验残差平方项与自变量之间是否独立，如果独立则表明不存在异方差性       \n",
    "f_pvalue : F统计量对应的p值，若p值小于显著性水平，则拒绝**残差方差为常数的原假设**，即存在异方差性"
   ]
  },
  {
   "cell_type": "code",
   "execution_count": 5,
   "id": "f3bd0f19",
   "metadata": {},
   "outputs": [],
   "source": [
    "from statsmodels.stats.diagnostic import het_breuschpagan #BP检验\n",
    "def bp_test(res, X):\n",
    "    \"\"\"\n",
    "    Breusch-Pagan检验（BP检验）\n",
    "    参数:\n",
    "    res: 残差\n",
    "    X: 用于bp检验的自变量\n",
    "    返回值:\n",
    "    lm : LM统计量值  \n",
    "    lm_pvalue : LM统计量的p值，若p值小于显著性水平，则拒绝残差方差为常数的原假设，即存在异方差性  \n",
    "    fvalue : F统计量值，用来检验残差平方项与自变量之间是否独立，如果独立则表明不存在异方差性         \n",
    "    f_pvalue : F统计量对应的p值，若p值小于显著性水平，则拒绝残差方差为常数的原假设，即存在异方差性 \n",
    "    \"\"\"\n",
    "    result_bp_test = het_breuschpagan(res, X)\n",
    "    bp_lm_statistic = result_bp_test[0]\n",
    "    bp_lm_pval = result_bp_test[1]\n",
    "    bp_F_statistic= result_bp_test[2]\n",
    "    bp_F_pval = result_bp_test[3]\n",
    "    bp_test_output=pd.Series(result_bp_test[0:4],index=['bp_lm_statistic','bp_lm_pval','bp_F_statistic','bp_F_pval'])    \n",
    "    return bp_test_output"
   ]
  },
  {
   "cell_type": "code",
   "execution_count": null,
   "id": "3a8e38f0",
   "metadata": {},
   "outputs": [],
   "source": []
  },
  {
   "cell_type": "code",
   "execution_count": null,
   "id": "e8ea69b3",
   "metadata": {},
   "outputs": [],
   "source": []
  }
 ],
 "metadata": {
  "kernelspec": {
   "display_name": "Python 3 (ipykernel)",
   "language": "python",
   "name": "python3"
  },
  "language_info": {
   "codemirror_mode": {
    "name": "ipython",
    "version": 3
   },
   "file_extension": ".py",
   "mimetype": "text/x-python",
   "name": "python",
   "nbconvert_exporter": "python",
   "pygments_lexer": "ipython3",
   "version": "3.10.12"
  },
  "toc": {
   "base_numbering": 1,
   "nav_menu": {},
   "number_sections": true,
   "sideBar": true,
   "skip_h1_title": false,
   "title_cell": "Table of Contents",
   "title_sidebar": "Contents",
   "toc_cell": false,
   "toc_position": {},
   "toc_section_display": true,
   "toc_window_display": false
  },
  "varInspector": {
   "cols": {
    "lenName": 16,
    "lenType": 16,
    "lenVar": 40
   },
   "kernels_config": {
    "python": {
     "delete_cmd_postfix": "",
     "delete_cmd_prefix": "del ",
     "library": "var_list.py",
     "varRefreshCmd": "print(var_dic_list())"
    },
    "r": {
     "delete_cmd_postfix": ") ",
     "delete_cmd_prefix": "rm(",
     "library": "var_list.r",
     "varRefreshCmd": "cat(var_dic_list()) "
    }
   },
   "types_to_exclude": [
    "module",
    "function",
    "builtin_function_or_method",
    "instance",
    "_Feature"
   ],
   "window_display": false
  }
 },
 "nbformat": 4,
 "nbformat_minor": 5
}
