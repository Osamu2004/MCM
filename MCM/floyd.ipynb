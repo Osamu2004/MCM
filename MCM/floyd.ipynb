{
 "cells": [
  {
   "cell_type": "markdown",
   "id": "b6496ac9",
   "metadata": {},
   "source": [
    "## 问题\n",
    "中心点的确定顺序  \n",
    "range(node_number)  \n",
    "[6,5,4,3,2,1,0]  \n",
    "导致生成的路由矩阵只在i<j或i>j时输出正确  \n",
    "route的输出结果不应该是对称矩阵  "
   ]
  },
  {
   "cell_type": "code",
   "execution_count": 125,
   "id": "57f8c493",
   "metadata": {},
   "outputs": [
    {
     "name": "stdout",
     "output_type": "stream",
     "text": [
      "[0, 0, 0, 4, 5, 0, 0]\n",
      "[0, 0, 0, 4, 0, 6, 7]\n",
      "[0, 0, 0, 0, 0, 6, 7]\n",
      "[1, 2, 0, 0, 5, 0, 0]\n",
      "[1, 0, 0, 4, 0, 6, 0]\n",
      "[0, 2, 3, 0, 5, 0, 0]\n",
      "[0, 2, 3, 0, 0, 0, 0]\n",
      "第1次循环:\n",
      "距离矩阵:\n",
      "[0, -1, -1, 1.2, 9.2, -1, -1]\n",
      "[-1, 0, -1, 5, -1, 3.1, 2]\n",
      "[-1, -1, 0, -1, -1, 4, 1.5]\n",
      "[1.2, 5, -1, 0, 6.7, -1, -1]\n",
      "[9.2, -1, -1, 6.7, 0, 15.6, -1]\n",
      "[-1, 3.1, 4, -1, 15.6, 0, -1]\n",
      "[-1, 2, 1.5, -1, -1, -1, 0]\n",
      "路由矩阵:\n",
      "[0, 0, 0, 4, 5, 0, 0]\n",
      "[0, 0, 0, 4, 0, 6, 7]\n",
      "[0, 0, 0, 0, 0, 6, 7]\n",
      "[1, 2, 0, 0, 5, 0, 0]\n",
      "[1, 0, 0, 4, 0, 6, 0]\n",
      "[0, 2, 3, 0, 5, 0, 0]\n",
      "[0, 2, 3, 0, 0, 0, 0]\n",
      "第2次循环:\n",
      "距离矩阵:\n",
      "[0, -1, -1, 1.2, 9.2, -1, -1]\n",
      "[-1, 0, -1, 5, -1, 3.1, 2]\n",
      "[-1, -1, 0, -1, -1, 4, 1.5]\n",
      "[1.2, 5, -1, 0, 6.7, 8.1, 7]\n",
      "[9.2, -1, -1, 6.7, 0, 15.6, -1]\n",
      "[-1, 3.1, 4, 8.1, 15.6, 0, 5.1]\n",
      "[-1, 2, 1.5, 7, -1, 5.1, 0]\n",
      "路由矩阵:\n",
      "[0, 0, 0, 4, 5, 0, 0]\n",
      "[0, 0, 0, 4, 0, 6, 7]\n",
      "[0, 0, 0, 0, 0, 6, 7]\n",
      "[1, 2, 0, 0, 5, 2, 2]\n",
      "[1, 0, 0, 4, 0, 6, 0]\n",
      "[0, 2, 3, 2, 5, 0, 2]\n",
      "[0, 2, 3, 2, 0, 2, 0]\n",
      "第3次循环:\n",
      "距离矩阵:\n",
      "[0, -1, -1, 1.2, 9.2, -1, -1]\n",
      "[-1, 0, -1, 5, -1, 3.1, 2]\n",
      "[-1, -1, 0, -1, -1, 4, 1.5]\n",
      "[1.2, 5, -1, 0, 6.7, 8.1, 7]\n",
      "[9.2, -1, -1, 6.7, 0, 15.6, -1]\n",
      "[-1, 3.1, 4, 8.1, 15.6, 0, 5.1]\n",
      "[-1, 2, 1.5, 7, -1, 5.1, 0]\n",
      "路由矩阵:\n",
      "[0, 0, 0, 4, 5, 0, 0]\n",
      "[0, 0, 0, 4, 0, 6, 7]\n",
      "[0, 0, 0, 0, 0, 6, 7]\n",
      "[1, 2, 0, 0, 5, 2, 2]\n",
      "[1, 0, 0, 4, 0, 6, 0]\n",
      "[0, 2, 3, 2, 5, 0, 2]\n",
      "[0, 2, 3, 2, 0, 2, 0]\n",
      "第4次循环:\n",
      "距离矩阵:\n",
      "[0, 6.2, -1, 1.2, 7.9, 9.299999999999999, 8.2]\n",
      "[6.2, 0, -1, 5, 11.7, 3.1, 2]\n",
      "[-1, -1, 0, -1, -1, 4, 1.5]\n",
      "[1.2, 5, -1, 0, 6.7, 8.1, 7]\n",
      "[7.9, 11.7, -1, 6.7, 0, 14.8, 13.7]\n",
      "[9.299999999999999, 3.1, 4, 8.1, 14.8, 0, 5.1]\n",
      "[8.2, 2, 1.5, 7, 13.7, 5.1, 0]\n",
      "路由矩阵:\n",
      "[0, 4, 0, 4, 4, 4, 4]\n",
      "[4, 0, 0, 4, 4, 6, 7]\n",
      "[0, 0, 0, 0, 0, 6, 7]\n",
      "[1, 2, 0, 0, 5, 2, 2]\n",
      "[4, 4, 0, 4, 0, 4, 4]\n",
      "[4, 2, 3, 2, 4, 0, 2]\n",
      "[4, 2, 3, 2, 4, 2, 0]\n",
      "第5次循环:\n",
      "距离矩阵:\n",
      "[0, 6.2, -1, 1.2, 7.9, 9.299999999999999, 8.2]\n",
      "[6.2, 0, -1, 5, 11.7, 3.1, 2]\n",
      "[-1, -1, 0, -1, -1, 4, 1.5]\n",
      "[1.2, 5, -1, 0, 6.7, 8.1, 7]\n",
      "[7.9, 11.7, -1, 6.7, 0, 14.8, 13.7]\n",
      "[9.299999999999999, 3.1, 4, 8.1, 14.8, 0, 5.1]\n",
      "[8.2, 2, 1.5, 7, 13.7, 5.1, 0]\n",
      "路由矩阵:\n",
      "[0, 4, 0, 4, 4, 4, 4]\n",
      "[4, 0, 0, 4, 4, 6, 7]\n",
      "[0, 0, 0, 0, 0, 6, 7]\n",
      "[1, 2, 0, 0, 5, 2, 2]\n",
      "[4, 4, 0, 4, 0, 4, 4]\n",
      "[4, 2, 3, 2, 4, 0, 2]\n",
      "[4, 2, 3, 2, 4, 2, 0]\n",
      "第6次循环:\n",
      "距离矩阵:\n",
      "[0, 6.2, 13.299999999999999, 1.2, 7.9, 9.299999999999999, 8.2]\n",
      "[6.2, 0, 7.1, 5, 11.7, 3.1, 2]\n",
      "[13.299999999999999, 7.1, 0, 12.1, 18.8, 4, 1.5]\n",
      "[1.2, 5, 12.1, 0, 6.7, 8.1, 7]\n",
      "[7.9, 11.7, 18.8, 6.7, 0, 14.8, 13.7]\n",
      "[9.299999999999999, 3.1, 4, 8.1, 14.8, 0, 5.1]\n",
      "[8.2, 2, 1.5, 7, 13.7, 5.1, 0]\n",
      "路由矩阵:\n",
      "[0, 4, 6, 4, 4, 4, 4]\n",
      "[4, 0, 6, 4, 4, 6, 7]\n",
      "[6, 6, 0, 6, 6, 6, 7]\n",
      "[1, 2, 6, 0, 5, 2, 2]\n",
      "[4, 4, 6, 4, 0, 4, 4]\n",
      "[4, 2, 3, 2, 4, 0, 2]\n",
      "[4, 2, 3, 2, 4, 2, 0]\n",
      "第7次循环:\n",
      "距离矩阵:\n",
      "[0, 6.2, 9.7, 1.2, 7.9, 9.299999999999999, 8.2]\n",
      "[6.2, 0, 3.5, 5, 11.7, 3.1, 2]\n",
      "[9.7, 3.5, 0, 8.5, 15.2, 4, 1.5]\n",
      "[1.2, 5, 8.5, 0, 6.7, 8.1, 7]\n",
      "[7.9, 11.7, 15.2, 6.7, 0, 14.8, 13.7]\n",
      "[9.299999999999999, 3.1, 4, 8.1, 14.8, 0, 5.1]\n",
      "[8.2, 2, 1.5, 7, 13.7, 5.1, 0]\n",
      "路由矩阵:\n",
      "[0, 4, 7, 4, 4, 4, 4]\n",
      "[4, 0, 7, 4, 4, 6, 7]\n",
      "[7, 7, 0, 7, 7, 6, 7]\n",
      "[1, 2, 7, 0, 5, 2, 2]\n",
      "[4, 4, 7, 4, 0, 4, 4]\n",
      "[4, 2, 3, 2, 4, 0, 2]\n",
      "[4, 2, 3, 2, 4, 2, 0]\n"
     ]
    }
   ],
   "source": [
    "def floyd(W):\n",
    "    # 首先获取节点数\n",
    "    node_number = len(W)\n",
    "\n",
    "    # 初始化路由矩阵\n",
    "    R = [[0 for i in range(node_number)] for j in range(node_number)]\n",
    "    for i in range(node_number):\n",
    "        for j in range(node_number):\n",
    "            if W[i][j] > 0:\n",
    "                R[i][j] = j+1\n",
    "            else:\n",
    "                R[i][j] = 0\n",
    "    # 查看初始化的路由矩阵\n",
    "    for row in R:\n",
    "        print(row)\n",
    "\n",
    "    # 循环求W_n和R_n\n",
    "    for k in range(node_number):\n",
    "        for i in range(node_number):\n",
    "            for j in range(node_number):\n",
    "                if W[i][k] > 0 and W[k][j] > 0 and (W[i][k] + W[k][j] < W[i][j] or W[i][j] == -1):\n",
    "                    W[i][j] = W[i][k] + W[k][j]\n",
    "                    R[i][j] = k+1\n",
    "        print(\"第%d次循环:\" % (k+1))\n",
    "        print(\"距离矩阵:\")\n",
    "        for row in W:\n",
    "            print(row)\n",
    "        print(\"路由矩阵:\")\n",
    "        for row in R:\n",
    "            print(row)\n",
    "matrix = [[0, -1, -1, 1.2, 9.2, -1, -1],\n",
    "          [-1, 0, -1, 5, -1, 3.1, 2],\n",
    "          [-1, -1, 0, -1, -1, 4, 1.5],\n",
    "          [1.2, 5, -1, 0, 6.7, -1, -1],\n",
    "          [9.2, -1, -1, 6.7, 0, 15.6, -1],\n",
    "          [-1, 3.1, 4, -1, 15.6, 0, -1],\n",
    "          [-1, 2, 1.5, -1, -1, -1, 0]]\n",
    "floyd(matrix)"
   ]
  },
  {
   "cell_type": "code",
   "execution_count": 131,
   "id": "614edd33",
   "metadata": {},
   "outputs": [
    {
     "name": "stdout",
     "output_type": "stream",
     "text": [
      "2\n",
      "8.2\n",
      "8.2\n",
      "[1, 2, 7]\n"
     ]
    }
   ],
   "source": [
    "def floyd(graph,a,b):\n",
    "    \"\"\"\n",
    "    floyd算法求图中两点之间的最短路径\n",
    "    输入：图的邻接矩阵,出发地标签，目的地标签\n",
    "    输出：距离矩阵graph，路由矩阵route\n",
    "    \"\"\"\n",
    "    #初始化路由矩阵\n",
    "    n = len(graph)\n",
    "    route = [[0 for _ in range(n)] for _ in range(n)]\n",
    "    for i in range(n):\n",
    "        for j in range(n):\n",
    "            if graph[i][j] >0:\n",
    "                route[i][j] = j + 1\n",
    "    #开始迭代\n",
    "    for center in [6,5,4,3,2,1,0]:\n",
    "        for start in range(n):\n",
    "            for end in range(n):\n",
    "                if route[center][start] > 0 and route[center][end] > 0 and (graph[start][end] > graph[start][center] + graph[center][end] or graph[start][end] == -1):\n",
    "                    route[start][end] = center + 1\n",
    "                    graph[start][end] = graph[start][center] + graph[center][end]\n",
    "    distance = 0\n",
    "    route_d = [a]\n",
    "    print(route[a-1][b-1])\n",
    "    while(b != route[a-1][b-1]):\n",
    "        route_d.append(route[a-1][b-1])\n",
    "        distance = distance + graph[a-1][route_d[-1]-1]\n",
    "        a = route[a-1][b-1]\n",
    "    route_d.append(b)\n",
    "    distance = distance + graph[a-1][b-1]\n",
    "    return graph,route,route_d,distance\n",
    "matrix = [[0, -1, -1, 1.2, 9.2, -1, -1],\n",
    "          [-1, 0, -1, 5, -1, 3.1, 2],\n",
    "          [-1, -1, 0, -1, -1, 4, 1.5],\n",
    "          [1.2, 5, -1, 0, 6.7, -1, -1],\n",
    "          [9.2, -1, -1, 6.7, 0, 15.6, -1],\n",
    "          [-1, 3.1, 4, -1, 15.6, 0, -1],\n",
    "          [-1, 2, 1.5, -1, -1, -1, 0]]\n",
    "graph,route,route_d,distance = floyd(matrix,1,7)\n",
    "print(distance)\n",
    "print(graph[7-1][1-1])\n",
    "print(route_d)"
   ]
  },
  {
   "cell_type": "code",
   "execution_count": 128,
   "id": "68cbe033",
   "metadata": {},
   "outputs": [
    {
     "data": {
      "text/plain": [
       "[[0, 4, 7, 4, 4, 4, 4],\n",
       " [4, 0, 7, 4, 4, 6, 7],\n",
       " [7, 7, 0, 7, 7, 6, 7],\n",
       " [1, 2, 7, 0, 5, 2, 2],\n",
       " [4, 4, 7, 4, 0, 4, 4],\n",
       " [4, 2, 3, 2, 4, 0, 2],\n",
       " [4, 2, 3, 2, 4, 2, 0]]"
      ]
     },
     "execution_count": 128,
     "metadata": {},
     "output_type": "execute_result"
    }
   ],
   "source": [
    "route"
   ]
  },
  {
   "cell_type": "code",
   "execution_count": 130,
   "id": "a3a5078b",
   "metadata": {},
   "outputs": [
    {
     "data": {
      "text/plain": [
       "[[0, 4, 2, 4, 4, 2, 2],\n",
       " [4, 0, 7, 4, 4, 6, 7],\n",
       " [2, 7, 0, 2, 2, 6, 7],\n",
       " [1, 2, 2, 0, 5, 2, 2],\n",
       " [4, 4, 2, 4, 0, 2, 2],\n",
       " [2, 2, 3, 2, 2, 0, 2],\n",
       " [2, 2, 3, 2, 2, 2, 0]]"
      ]
     },
     "execution_count": 130,
     "metadata": {},
     "output_type": "execute_result"
    }
   ],
   "source": [
    "route"
   ]
  },
  {
   "cell_type": "code",
   "execution_count": 114,
   "id": "39d131f1",
   "metadata": {},
   "outputs": [
    {
     "data": {
      "text/plain": [
       "-1"
      ]
     },
     "execution_count": 114,
     "metadata": {},
     "output_type": "execute_result"
    }
   ],
   "source": [
    "matrix = [[0, -1, -1, 1.2, 9.2, -1, -1],\n",
    "          [-1, 0, -1, 5, -1, 3.1, 2],\n",
    "          [-1, -1, 0, -1, -1, 4, 1.5],\n",
    "          [1.2, 5, -1, 0, 6.7, -1, -1],\n",
    "          [9.2, -1, -1, 6.7, 0, 15.6, -1],\n",
    "          [-1, 3.1, 4, -1, 15.6, 0, -1],\n",
    "          [-1, 2, 1.5, -1, -1, -1, 0]]\n",
    "matrix[7-1][4-1]"
   ]
  },
  {
   "cell_type": "code",
   "execution_count": 63,
   "id": "09efea58",
   "metadata": {},
   "outputs": [
    {
     "name": "stdout",
     "output_type": "stream",
     "text": [
      "矩阵是对称矩阵。\n"
     ]
    },
    {
     "data": {
      "image/png": "[encoded data removed]",
      "text/plain": [
       "<Figure size 640x480 with 1 Axes>"
      ]
     },
     "metadata": {},
     "output_type": "display_data"
    },
    {
     "name": "stdout",
     "output_type": "stream",
     "text": [
      "[[ 0.   0.   0.   1.2  9.2  0.   0. ]\n",
      " [ 0.   0.   0.   5.   0.   3.1  2. ]\n",
      " [ 0.   0.   0.   0.   0.   4.   1.5]\n",
      " [ 1.2  5.   0.   0.   6.7  0.   0. ]\n",
      " [ 9.2  0.   0.   6.7  0.  15.6  0. ]\n",
      " [ 0.   3.1  4.   0.  15.6  0.   0. ]\n",
      " [ 0.   2.   1.5  0.   0.   0.   0. ]]\n"
     ]
    }
   ],
   "source": [
    "import networkx as nx\n",
    "import matplotlib.pyplot as plt\n",
    "import numpy as np\n",
    "\n",
    "# 定义邻接矩阵，无穷大表示不通\n",
    "matrix = [[0, -1, -1, 1.2, 9.2, -1, -1],\n",
    "          [-1, 0, -1, 5, -1, 3.1, 2],\n",
    "          [-1, -1, 0, -1, -1, 4, 1.5],\n",
    "          [1.2, 5, -1, 0, 6.7, -1, -1],\n",
    "          [9.2, -1, -1, 6.7, 0, 15.6, -1],\n",
    "          [-1, 3.1, 4, -1, 15.6, 0, -1],\n",
    "          [-1, 2, 1.5, -1, -1, -1, 0]]\n",
    "matrix_f = [[0, -1, -1, -1, 9.2, -1, -1],\n",
    "          [-1, 0, -1, 5, -1, 3.1, 2],\n",
    "          [-1, -1, 0, -1, -1, 4, 1.5],\n",
    "          [1.2, 5, -1, 0, 6.7, -1, -1],\n",
    "          [9.2, -1, -1, 6.7, 0, 15.6, -1],\n",
    "          [-1, 3.1, 4, -1, 15.6, 0, -1],\n",
    "          [-1, 2, 1.5, -1, -1, -1, 0]]\n",
    "#graph,route,route_d,distance = floyd(matrix_f,1,7)\n",
    "matrix = [[0 if val == -1 else val for val in row] for row in matrix]\n",
    "matrix = np.array(matrix)\n",
    "# 判断是否为对称矩阵\n",
    "is_symmetric = np.all(matrix == matrix.T)\n",
    "\n",
    "if is_symmetric:\n",
    "    print(\"矩阵是对称矩阵。\")\n",
    "else:\n",
    "    print(\"矩阵不是对称矩阵。\")\n",
    "\n",
    "\n",
    "# 创建有向图\n",
    "G = nx.DiGraph(matrix)\n",
    "\n",
    "# 绘制图形\n",
    "pos = nx.spring_layout(G)  # 设置节点位置\n",
    "nx.draw(G, pos, with_labels=True, node_size=1000, node_color='skyblue', font_size=12, font_weight='bold')\n",
    "plt.show()\n",
    "print(matrix)"
   ]
  },
  {
   "cell_type": "code",
   "execution_count": 36,
   "id": "0d4a514c",
   "metadata": {},
   "outputs": [
    {
     "data": {
      "text/plain": [
       "[1, 4, 2, 7]"
      ]
     },
     "execution_count": 36,
     "metadata": {},
     "output_type": "execute_result"
    }
   ],
   "source": [
    "route_d"
   ]
  },
  {
   "cell_type": "code",
   "execution_count": 37,
   "id": "035b85d4",
   "metadata": {},
   "outputs": [
    {
     "data": {
      "text/plain": [
       "19.4"
      ]
     },
     "execution_count": 37,
     "metadata": {},
     "output_type": "execute_result"
    }
   ],
   "source": [
    "distance"
   ]
  },
  {
   "cell_type": "code",
   "execution_count": 38,
   "id": "42fe15f0",
   "metadata": {},
   "outputs": [
    {
     "data": {
      "text/plain": [
       "[[0, 4, 7, 5, 4, 4, 4],\n",
       " [4, 0, 7, 4, 4, 6, 7],\n",
       " [7, 7, 0, 7, 7, 6, 7],\n",
       " [1, 2, 7, 0, 5, 2, 2],\n",
       " [4, 4, 7, 4, 0, 4, 4],\n",
       " [4, 2, 3, 2, 4, 0, 2],\n",
       " [4, 2, 3, 2, 4, 2, 0]]"
      ]
     },
     "execution_count": 38,
     "metadata": {},
     "output_type": "execute_result"
    }
   ],
   "source": [
    "route"
   ]
  },
  {
   "cell_type": "code",
   "execution_count": null,
   "id": "b36d5506",
   "metadata": {},
   "outputs": [],
   "source": []
  }
 ],
 "metadata": {
  "kernelspec": {
   "display_name": "Python 3 (ipykernel)",
   "language": "python",
   "name": "python3"
  },
  "language_info": {
   "codemirror_mode": {
    "name": "ipython",
    "version": 3
   },
   "file_extension": ".py",
   "mimetype": "text/x-python",
   "name": "python",
   "nbconvert_exporter": "python",
   "pygments_lexer": "ipython3",
   "version": "3.10.12"
  },
  "toc": {
   "base_numbering": 1,
   "nav_menu": {},
   "number_sections": true,
   "sideBar": true,
   "skip_h1_title": false,
   "title_cell": "Table of Contents",
   "title_sidebar": "Contents",
   "toc_cell": false,
   "toc_position": {},
   "toc_section_display": true,
   "toc_window_display": false
  },
  "varInspector": {
   "cols": {
    "lenName": 16,
    "lenType": 16,
    "lenVar": 40
   },
   "kernels_config": {
    "python": {
     "delete_cmd_postfix": "",
     "delete_cmd_prefix": "del ",
     "library": "var_list.py",
     "varRefreshCmd": "print(var_dic_list())"
    },
    "r": {
     "delete_cmd_postfix": ") ",
     "delete_cmd_prefix": "rm(",
     "library": "var_list.r",
     "varRefreshCmd": "cat(var_dic_list()) "
    }
   },
   "types_to_exclude": [
    "module",
    "function",
    "builtin_function_or_method",
    "instance",
    "_Feature"
   ],
   "window_display": true
  }
 },
 "nbformat": 4,
 "nbformat_minor": 5
}
