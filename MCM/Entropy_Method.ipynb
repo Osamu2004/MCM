{
 "cells": [
  {
   "cell_type": "code",
   "execution_count": 1,
   "id": "0f6dcdb8",
   "metadata": {},
   "outputs": [],
   "source": [
    "import numpy as np"
   ]
  },
  {
   "cell_type": "code",
   "execution_count": null,
   "id": "cb2f3230",
   "metadata": {},
   "outputs": [],
   "source": [
    "def Entropy_Method(Z):\n",
    "    \"\"\"\n",
    "    计算有n个样本，m个指标的样本所对应的熵权\n",
    "    输入：Z：n*m的矩阵(要经过正向化处理,不进行标准化，且元素中不存在负数)\n",
    "    输出：W：熵权，m*1的行向量\n",
    "    \"\"\"\n",
    "    n,m = np.shape(Z)\n",
    "    if np.any(Z < 0):\n",
    "        print(\"矩阵中存在负数，所以需要对X重新标准化\")\n",
    "        max1 = Z.max(axis=0).reshape(1,m)\n",
    "        min1 = Z.min(axis=0).reshape(1,m)\n",
    "        Z = (Z-min1)/(max1-min1)\n",
    "        print(\"标准化完成\")\n",
    "    else:\n",
    "        Z = Z/np.sqrt(np.sum(Z * Z,axis = 0)).reshape(1,m) \n",
    "        print(\"标准化完成\")\n",
    "    print(Z)\n",
    "    P = Z/np.sum(Z,axis=0)\n",
    "    lnP = np.log(P)\n",
    "    inf_mask = np.isinf(lnP)\n",
    "    lnP[inf_mask] = 0\n",
    "    e = -np.sum(P*lnP,axis = 0)/np.log(n)\n",
    "    d = 1-e\n",
    "    print(d)\n",
    "    W = d/np.sum(d)\n",
    "    return(W)\n",
    "Entropy_Method(data)"
   ]
  }
 ],
 "metadata": {
  "kernelspec": {
   "display_name": "Python 3 (ipykernel)",
   "language": "python",
   "name": "python3"
  },
  "language_info": {
   "codemirror_mode": {
    "name": "ipython",
    "version": 3
   },
   "file_extension": ".py",
   "mimetype": "text/x-python",
   "name": "python",
   "nbconvert_exporter": "python",
   "pygments_lexer": "ipython3",
   "version": "3.10.11"
  },
  "toc": {
   "base_numbering": 1,
   "nav_menu": {},
   "number_sections": true,
   "sideBar": true,
   "skip_h1_title": false,
   "title_cell": "Table of Contents",
   "title_sidebar": "Contents",
   "toc_cell": false,
   "toc_position": {},
   "toc_section_display": true,
   "toc_window_display": false
  },
  "varInspector": {
   "cols": {
    "lenName": 16,
    "lenType": 16,
    "lenVar": 40
   },
   "kernels_config": {
    "python": {
     "delete_cmd_postfix": "",
     "delete_cmd_prefix": "del ",
     "library": "var_list.py",
     "varRefreshCmd": "print(var_dic_list())"
    },
    "r": {
     "delete_cmd_postfix": ") ",
     "delete_cmd_prefix": "rm(",
     "library": "var_list.r",
     "varRefreshCmd": "cat(var_dic_list()) "
    }
   },
   "types_to_exclude": [
    "module",
    "function",
    "builtin_function_or_method",
    "instance",
    "_Feature"
   ],
   "window_display": false
  }
 },
 "nbformat": 4,
 "nbformat_minor": 5
}
