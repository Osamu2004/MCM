{
 "cells": [
  {
   "cell_type": "code",
   "execution_count": 2,
   "id": "5406f788",
   "metadata": {},
   "outputs": [
    {
     "data": {
      "text/html": [
       "<div>\n",
       "<style scoped>\n",
       "    .dataframe tbody tr th:only-of-type {\n",
       "        vertical-align: middle;\n",
       "    }\n",
       "\n",
       "    .dataframe tbody tr th {\n",
       "        vertical-align: top;\n",
       "    }\n",
       "\n",
       "    .dataframe thead th {\n",
       "        text-align: right;\n",
       "    }\n",
       "</style>\n",
       "<table border=\"1\" class=\"dataframe\">\n",
       "  <thead>\n",
       "    <tr style=\"text-align: right;\">\n",
       "      <th></th>\n",
       "      <th>含氧量（ppm)</th>\n",
       "      <th>PH值</th>\n",
       "      <th>细菌总数(个/mL)</th>\n",
       "      <th>植物性营养物量（ppm)</th>\n",
       "    </tr>\n",
       "    <tr>\n",
       "      <th>河流</th>\n",
       "      <th></th>\n",
       "      <th></th>\n",
       "      <th></th>\n",
       "      <th></th>\n",
       "    </tr>\n",
       "  </thead>\n",
       "  <tbody>\n",
       "    <tr>\n",
       "      <th>A</th>\n",
       "      <td>4.69</td>\n",
       "      <td>6.59</td>\n",
       "      <td>51</td>\n",
       "      <td>11.94</td>\n",
       "    </tr>\n",
       "    <tr>\n",
       "      <th>B</th>\n",
       "      <td>2.03</td>\n",
       "      <td>7.86</td>\n",
       "      <td>19</td>\n",
       "      <td>6.46</td>\n",
       "    </tr>\n",
       "    <tr>\n",
       "      <th>C</th>\n",
       "      <td>9.11</td>\n",
       "      <td>6.31</td>\n",
       "      <td>46</td>\n",
       "      <td>8.91</td>\n",
       "    </tr>\n",
       "    <tr>\n",
       "      <th>D</th>\n",
       "      <td>8.61</td>\n",
       "      <td>7.05</td>\n",
       "      <td>46</td>\n",
       "      <td>26.43</td>\n",
       "    </tr>\n",
       "    <tr>\n",
       "      <th>E</th>\n",
       "      <td>7.13</td>\n",
       "      <td>6.50</td>\n",
       "      <td>50</td>\n",
       "      <td>23.57</td>\n",
       "    </tr>\n",
       "    <tr>\n",
       "      <th>F</th>\n",
       "      <td>2.39</td>\n",
       "      <td>6.77</td>\n",
       "      <td>38</td>\n",
       "      <td>24.62</td>\n",
       "    </tr>\n",
       "    <tr>\n",
       "      <th>G</th>\n",
       "      <td>7.69</td>\n",
       "      <td>6.79</td>\n",
       "      <td>38</td>\n",
       "      <td>6.01</td>\n",
       "    </tr>\n",
       "    <tr>\n",
       "      <th>H</th>\n",
       "      <td>9.30</td>\n",
       "      <td>6.81</td>\n",
       "      <td>27</td>\n",
       "      <td>31.57</td>\n",
       "    </tr>\n",
       "    <tr>\n",
       "      <th>I</th>\n",
       "      <td>5.45</td>\n",
       "      <td>7.62</td>\n",
       "      <td>5</td>\n",
       "      <td>18.46</td>\n",
       "    </tr>\n",
       "    <tr>\n",
       "      <th>J</th>\n",
       "      <td>6.19</td>\n",
       "      <td>7.27</td>\n",
       "      <td>17</td>\n",
       "      <td>7.51</td>\n",
       "    </tr>\n",
       "    <tr>\n",
       "      <th>K</th>\n",
       "      <td>7.93</td>\n",
       "      <td>7.53</td>\n",
       "      <td>9</td>\n",
       "      <td>6.52</td>\n",
       "    </tr>\n",
       "    <tr>\n",
       "      <th>L</th>\n",
       "      <td>4.40</td>\n",
       "      <td>7.28</td>\n",
       "      <td>17</td>\n",
       "      <td>25.30</td>\n",
       "    </tr>\n",
       "    <tr>\n",
       "      <th>M</th>\n",
       "      <td>7.46</td>\n",
       "      <td>8.24</td>\n",
       "      <td>23</td>\n",
       "      <td>14.42</td>\n",
       "    </tr>\n",
       "    <tr>\n",
       "      <th>N</th>\n",
       "      <td>2.01</td>\n",
       "      <td>5.55</td>\n",
       "      <td>47</td>\n",
       "      <td>26.31</td>\n",
       "    </tr>\n",
       "    <tr>\n",
       "      <th>O</th>\n",
       "      <td>2.04</td>\n",
       "      <td>6.40</td>\n",
       "      <td>23</td>\n",
       "      <td>17.91</td>\n",
       "    </tr>\n",
       "    <tr>\n",
       "      <th>P</th>\n",
       "      <td>7.73</td>\n",
       "      <td>6.14</td>\n",
       "      <td>52</td>\n",
       "      <td>15.72</td>\n",
       "    </tr>\n",
       "    <tr>\n",
       "      <th>Q</th>\n",
       "      <td>6.35</td>\n",
       "      <td>7.58</td>\n",
       "      <td>25</td>\n",
       "      <td>29.46</td>\n",
       "    </tr>\n",
       "    <tr>\n",
       "      <th>R</th>\n",
       "      <td>8.29</td>\n",
       "      <td>8.41</td>\n",
       "      <td>39</td>\n",
       "      <td>12.02</td>\n",
       "    </tr>\n",
       "    <tr>\n",
       "      <th>S</th>\n",
       "      <td>3.54</td>\n",
       "      <td>7.27</td>\n",
       "      <td>54</td>\n",
       "      <td>3.16</td>\n",
       "    </tr>\n",
       "    <tr>\n",
       "      <th>T</th>\n",
       "      <td>7.44</td>\n",
       "      <td>6.26</td>\n",
       "      <td>8</td>\n",
       "      <td>28.41</td>\n",
       "    </tr>\n",
       "  </tbody>\n",
       "</table>\n",
       "</div>"
      ],
      "text/plain": [
       "    含氧量（ppm)   PH值  细菌总数(个/mL)  植物性营养物量（ppm)\n",
       "河流                                          \n",
       "A       4.69  6.59          51         11.94\n",
       "B       2.03  7.86          19          6.46\n",
       "C       9.11  6.31          46          8.91\n",
       "D       8.61  7.05          46         26.43\n",
       "E       7.13  6.50          50         23.57\n",
       "F       2.39  6.77          38         24.62\n",
       "G       7.69  6.79          38          6.01\n",
       "H       9.30  6.81          27         31.57\n",
       "I       5.45  7.62           5         18.46\n",
       "J       6.19  7.27          17          7.51\n",
       "K       7.93  7.53           9          6.52\n",
       "L       4.40  7.28          17         25.30\n",
       "M       7.46  8.24          23         14.42\n",
       "N       2.01  5.55          47         26.31\n",
       "O       2.04  6.40          23         17.91\n",
       "P       7.73  6.14          52         15.72\n",
       "Q       6.35  7.58          25         29.46\n",
       "R       8.29  8.41          39         12.02\n",
       "S       3.54  7.27          54          3.16\n",
       "T       7.44  6.26           8         28.41"
      ]
     },
     "execution_count": 2,
     "metadata": {},
     "output_type": "execute_result"
    }
   ],
   "source": [
    "import numpy as np\n",
    "import pandas as pd\n",
    "\n",
    "xlsx = pd.ExcelFile(r\"E:\\文件\\代码积累\\python\\a积累代码\\Topsis\\20条河流的水质情况数据.xlsx\")\n",
    "data_pd = pd.read_excel(xlsx, 'Sheet1')\n",
    "data_pd.set_index('河流', inplace=True)# 将\"河流\"列设置为索引，并替换原DataFrame\n",
    "data_pd"
   ]
  },
  {
   "cell_type": "code",
   "execution_count": 33,
   "id": "a9f10059",
   "metadata": {},
   "outputs": [
    {
     "data": {
      "text/plain": [
       "array([[ 4.69,  6.59, 51.  , 11.94],\n",
       "       [ 2.03,  7.86, 19.  ,  6.46],\n",
       "       [ 9.11,  6.31, 46.  ,  8.91],\n",
       "       [ 8.61,  7.05, 46.  , 26.43],\n",
       "       [ 7.13,  6.5 , 50.  , 23.57],\n",
       "       [ 2.39,  6.77, 38.  , 24.62],\n",
       "       [ 7.69,  6.79, 38.  ,  6.01],\n",
       "       [ 9.3 ,  6.81, 27.  , 31.57],\n",
       "       [ 5.45,  7.62,  5.  , 18.46],\n",
       "       [ 6.19,  7.27, 17.  ,  7.51],\n",
       "       [ 7.93,  7.53,  9.  ,  6.52],\n",
       "       [ 4.4 ,  7.28, 17.  , 25.3 ],\n",
       "       [ 7.46,  8.24, 23.  , 14.42],\n",
       "       [ 2.01,  5.55, 47.  , 26.31],\n",
       "       [ 2.04,  6.4 , 23.  , 17.91],\n",
       "       [ 7.73,  6.14, 52.  , 15.72],\n",
       "       [ 6.35,  7.58, 25.  , 29.46],\n",
       "       [ 8.29,  8.41, 39.  , 12.02],\n",
       "       [ 3.54,  7.27, 54.  ,  3.16],\n",
       "       [ 7.44,  6.26,  8.  , 28.41]])"
      ]
     },
     "execution_count": 33,
     "metadata": {},
     "output_type": "execute_result"
    }
   ],
   "source": [
    "data = np.asarray(data_pd)\n",
    "data"
   ]
  },
  {
   "cell_type": "markdown",
   "id": "bbbd65bb",
   "metadata": {},
   "source": [
    "## 第一步：判断是否需要正向化,并正向化\n"
   ]
  },
  {
   "cell_type": "code",
   "execution_count": 34,
   "id": "1b4d4215",
   "metadata": {},
   "outputs": [
    {
     "name": "stdout",
     "output_type": "stream",
     "text": [
      "共有20个评价对象，4个评价指标\n"
     ]
    }
   ],
   "source": [
    "n, m = data.shape\n",
    "print(\"共有{}个评价对象，{}个评价指标\".format(n,m))"
   ]
  },
  {
   "cell_type": "code",
   "execution_count": 35,
   "id": "d6aea298",
   "metadata": {},
   "outputs": [],
   "source": [
    "def forwarding(series, f_row, f_type):\n",
    "    if f_type == 1:\n",
    "        print(\"第{}列是极小型，正在正向化\".format(f_row))\n",
    "        series = np.max(series) - series\n",
    "        print(\"完成\")\n",
    "        return series\n",
    "    elif f_type == 2:\n",
    "        print(\"第{}列是中间型，正在正向化\".format(f_row))\n",
    "        best = float(input(\"请输入最佳的值\"))\n",
    "        D = np.abs(series - best).max()\n",
    "        series = 1 - np.abs(series - best) / D\n",
    "        print(\"完成\")\n",
    "        return series\n",
    "    elif f_type == 3:\n",
    "        print(\"第{}列是区间型，正在正向化\".format(f_row))\n",
    "        a = float(input(\"请输入区间的下界\"))\n",
    "        b = float(input(\"请输入区间的上界\"))\n",
    "        D = max(a - series.min(), series.max() - b)\n",
    "        for i in range(len(series)):\n",
    "            element = series[i]\n",
    "            if element < a:\n",
    "                series[i] = 1 - (a - element) / D\n",
    "            elif element > b:\n",
    "                series[i] = 1 - (element - b) / D\n",
    "            else:\n",
    "                series[i] = 1\n",
    "        print(\"完成\")\n",
    "        return series"
   ]
  },
  {
   "cell_type": "code",
   "execution_count": 36,
   "id": "be8b726d",
   "metadata": {},
   "outputs": [
    {
     "name": "stdout",
     "output_type": "stream",
     "text": [
      "第1列是中间型，正在正向化\n",
      "请输入最佳的值7\n",
      "完成\n",
      "第2列是极小型，正在正向化\n",
      "完成\n",
      "第3列是区间型，正在正向化\n",
      "请输入区间的下界10\n",
      "请输入区间的上界20\n",
      "完成\n"
     ]
    },
    {
     "data": {
      "text/plain": [
       "array([[4.69000000e+00, 7.17241379e-01, 3.00000000e+00, 1.00000000e+00],\n",
       "       [2.03000000e+00, 4.06896552e-01, 3.50000000e+01, 6.94036301e-01],\n",
       "       [9.11000000e+00, 5.24137931e-01, 8.00000000e+00, 9.05790838e-01],\n",
       "       [8.61000000e+00, 9.65517241e-01, 8.00000000e+00, 4.44252377e-01],\n",
       "       [7.13000000e+00, 6.55172414e-01, 4.00000000e+00, 6.91443388e-01],\n",
       "       [2.39000000e+00, 8.41379310e-01, 1.60000000e+01, 6.00691443e-01],\n",
       "       [7.69000000e+00, 8.55172414e-01, 1.60000000e+01, 6.55142610e-01],\n",
       "       [9.30000000e+00, 8.68965517e-01, 2.70000000e+01, 0.00000000e+00],\n",
       "       [5.45000000e+00, 5.72413793e-01, 4.90000000e+01, 1.00000000e+00],\n",
       "       [6.19000000e+00, 8.13793103e-01, 3.70000000e+01, 7.84788245e-01],\n",
       "       [7.93000000e+00, 6.34482759e-01, 4.50000000e+01, 6.99222126e-01],\n",
       "       [4.40000000e+00, 8.06896552e-01, 3.70000000e+01, 5.41918755e-01],\n",
       "       [7.46000000e+00, 1.44827586e-01, 3.10000000e+01, 1.00000000e+00],\n",
       "       [2.01000000e+00, 0.00000000e+00, 7.00000000e+00, 4.54624028e-01],\n",
       "       [2.04000000e+00, 5.86206897e-01, 3.10000000e+01, 1.00000000e+00],\n",
       "       [7.73000000e+00, 4.06896552e-01, 2.00000000e+00, 1.00000000e+00],\n",
       "       [6.35000000e+00, 6.00000000e-01, 2.90000000e+01, 1.82368194e-01],\n",
       "       [8.29000000e+00, 2.75862069e-02, 1.50000000e+01, 1.00000000e+00],\n",
       "       [3.54000000e+00, 8.13793103e-01, 0.00000000e+00, 4.08815903e-01],\n",
       "       [7.44000000e+00, 4.89655172e-01, 4.60000000e+01, 2.73120138e-01]])"
      ]
     },
     "execution_count": 36,
     "metadata": {},
     "output_type": "execute_result"
    }
   ],
   "source": [
    "#设置正向化指标，将所有指标转换为极大型指标\n",
    "judge_row = [2,3,4] #输入需要正向化处理的指标所在的列，例如第1、4、7列需要处理，那么设置为[1，4，7]\n",
    "judge_row = [i - 1 for i in judge_row]\n",
    "judge_type = [2,1,3]#输入需要处理的列的指标的类型（1：极小型，2：中间型，3：区间型）\n",
    "for i in range(len(judge_row)):\n",
    "    data[:,judge_row[i]] = forwarding(data[:,judge_row[i]],judge_row[i], judge_type[i])\n",
    "data"
   ]
  },
  {
   "cell_type": "markdown",
   "id": "a3210b25",
   "metadata": {},
   "source": [
    "## 第二步：对正向化后的矩阵进行标准化\n",
    "$$\n",
    "z_{ij}\\,\\,=\\,\\,\\frac{x_{ij}}{\\sqrt{\\sum_{i=1}^n{x_{ij}^{2}}}}\n",
    "$$"
   ]
  },
  {
   "cell_type": "code",
   "execution_count": 37,
   "id": "8c009a04",
   "metadata": {},
   "outputs": [
    {
     "data": {
      "text/plain": [
       "array([[0.16218592, 0.24825528, 0.02454403, 0.30645756],\n",
       "       [0.07019987, 0.14083713, 0.28634707, 0.21269267],\n",
       "       [0.3150349 , 0.18141732, 0.06545076, 0.27758645],\n",
       "       [0.29774429, 0.3341898 , 0.06545076, 0.1361445 ],\n",
       "       [0.24656409, 0.22677165, 0.03272538, 0.21189806],\n",
       "       [0.08264911, 0.29122254, 0.13090152, 0.18408644],\n",
       "       [0.26592957, 0.29599668, 0.13090152, 0.20077341],\n",
       "       [0.32160534, 0.30077082, 0.22089631, 0.        ],\n",
       "       [0.18846764, 0.19812681, 0.4008859 , 0.30645756],\n",
       "       [0.21405774, 0.28167426, 0.30270976, 0.24050429],\n",
       "       [0.27422907, 0.21961044, 0.36816052, 0.21428191],\n",
       "       [0.15215736, 0.27928719, 0.30270976, 0.1660751 ],\n",
       "       [0.25797589, 0.05012847, 0.25362169, 0.30645756],\n",
       "       [0.06950825, 0.        , 0.05726941, 0.13932297],\n",
       "       [0.07054569, 0.20290095, 0.25362169, 0.30645756],\n",
       "       [0.26731282, 0.14083713, 0.01636269, 0.30645756],\n",
       "       [0.21959074, 0.20767509, 0.237259  , 0.05588811],\n",
       "       [0.2866783 , 0.00954828, 0.12272017, 0.30645756],\n",
       "       [0.12241751, 0.28167426, 0.        , 0.12528473],\n",
       "       [0.25728427, 0.16948197, 0.37634187, 0.08369973]])"
      ]
     },
     "execution_count": 37,
     "metadata": {},
     "output_type": "execute_result"
    }
   ],
   "source": [
    "data_n = data/np.sqrt(np.sum(data * data,axis = 0)).reshape(1,m) #按照上面公式进行数据处理\n",
    "data_n"
   ]
  },
  {
   "cell_type": "markdown",
   "id": "cad56937",
   "metadata": {},
   "source": [
    "## 第三步：计算与最大值的距离和最小值的距离，并算出得分\n"
   ]
  },
  {
   "cell_type": "code",
   "execution_count": 38,
   "id": "3fe5965e",
   "metadata": {},
   "outputs": [
    {
     "data": {
      "text/plain": [
       "河流\n",
       "K    0.070162\n",
       "J    0.068393\n",
       "I    0.068074\n",
       "L    0.059093\n",
       "T    0.056466\n",
       "G    0.053947\n",
       "O    0.053307\n",
       "M    0.052652\n",
       "H    0.050998\n",
       "D    0.048820\n",
       "C    0.048497\n",
       "B    0.047799\n",
       "Q    0.046574\n",
       "A    0.045058\n",
       "F    0.044838\n",
       "R    0.043844\n",
       "P    0.043359\n",
       "E    0.043113\n",
       "S    0.035810\n",
       "N    0.019196\n",
       "dtype: float64"
      ]
     },
     "execution_count": 38,
     "metadata": {},
     "output_type": "execute_result"
    }
   ],
   "source": [
    "data_max = data_n.max(axis = 0).reshape(1,m) #定义最大值\n",
    "data_min = data_n.min(axis = 0).reshape(1,m) #定义最小值\n",
    "\n",
    "D_max = np.sum(np.square(data_n-data_max),axis=1)  ** 0.5\n",
    "D_min = np.sum(np.square(data_n-data_min),axis=1)  ** 0.5\n",
    "S = D_min/(D_max+D_min)\n",
    "stand_S = S/np.sum(S)\n",
    "stand_S = pd.Series(stand_S,index = data_pd.index)\n",
    "stand_S = stand_S.sort_values(ascending = False)\n",
    "stand_S"
   ]
  },
  {
   "cell_type": "code",
   "execution_count": null,
   "id": "7b637721",
   "metadata": {},
   "outputs": [],
   "source": []
  }
 ],
 "metadata": {
  "kernelspec": {
   "display_name": "Python 3 (ipykernel)",
   "language": "python",
   "name": "python3"
  },
  "language_info": {
   "codemirror_mode": {
    "name": "ipython",
    "version": 3
   },
   "file_extension": ".py",
   "mimetype": "text/x-python",
   "name": "python",
   "nbconvert_exporter": "python",
   "pygments_lexer": "ipython3",
   "version": "3.11.3"
  },
  "toc": {
   "base_numbering": 1,
   "nav_menu": {},
   "number_sections": true,
   "sideBar": true,
   "skip_h1_title": false,
   "title_cell": "Table of Contents",
   "title_sidebar": "Contents",
   "toc_cell": false,
   "toc_position": {},
   "toc_section_display": true,
   "toc_window_display": true
  },
  "varInspector": {
   "cols": {
    "lenName": 16,
    "lenType": 16,
    "lenVar": 40
   },
   "kernels_config": {
    "python": {
     "delete_cmd_postfix": "",
     "delete_cmd_prefix": "del ",
     "library": "var_list.py",
     "varRefreshCmd": "print(var_dic_list())"
    },
    "r": {
     "delete_cmd_postfix": ") ",
     "delete_cmd_prefix": "rm(",
     "library": "var_list.r",
     "varRefreshCmd": "cat(var_dic_list()) "
    }
   },
   "oldHeight": 245.510666,
   "position": {
    "height": "40px",
    "left": "1326px",
    "right": "20px",
    "top": "125px",
    "width": "350px"
   },
   "types_to_exclude": [
    "module",
    "function",
    "builtin_function_or_method",
    "instance",
    "_Feature"
   ],
   "varInspector_section_display": "none",
   "window_display": true
  }
 },
 "nbformat": 4,
 "nbformat_minor": 5
}
