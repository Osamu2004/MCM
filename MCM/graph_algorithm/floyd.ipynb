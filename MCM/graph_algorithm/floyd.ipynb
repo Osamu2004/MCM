{
 "cells": [
  {
   "cell_type": "code",
   "execution_count": 46,
   "id": "443cd3b9",
   "metadata": {},
   "outputs": [],
   "source": [
    "def floyd(graph):\n",
    "    \"\"\"\n",
    "    floyd算法求图中两点之间的最短路径\n",
    "    输入：图的邻接矩阵\n",
    "    输出：距离矩阵graph，路由矩阵route\n",
    "    \"\"\"\n",
    "    #初始化路由矩阵\n",
    "    n = len(graph)\n",
    "    route = [[0 for _ in range(n)] for _ in range(n)]\n",
    "    for i in range(n):\n",
    "        for j in range(n):\n",
    "            if graph[i][j] >0:\n",
    "                route[i][j] = j + 1\n",
    "    #开始迭代\n",
    "    for center in range(n):\n",
    "        for start in range(n):\n",
    "            for end in range(n):\n",
    "                if route[center][start] > 0 and route[center][end] > 0 and (graph[start][end] > graph[start][center] + graph[center][end] or graph[start][end] == -1):\n",
    "                    route[start][end] = center + 1\n",
    "                    graph[start][end] = graph[start][center] + graph[center][end]\n",
    "    return graph,route"
   ]
  },
  {
   "cell_type": "code",
   "execution_count": 45,
   "id": "69db642f",
   "metadata": {},
   "outputs": [
    {
     "data": {
      "text/plain": [
       "[[0, 7, 7, 4, 4, 7, 7],\n",
       " [7, 0, 7, 7, 7, 6, 7],\n",
       " [7, 7, 0, 7, 7, 6, 7],\n",
       " [1, 7, 7, 0, 5, 7, 1],\n",
       " [4, 7, 7, 4, 0, 7, 4],\n",
       " [7, 2, 3, 7, 7, 0, 2],\n",
       " [1, 2, 3, 1, 4, 2, 0]]"
      ]
     },
     "execution_count": 45,
     "metadata": {},
     "output_type": "execute_result"
    }
   ],
   "source": [
    "matrix = [[0, -1, -1, 1.2, 9.1, -1, 0.5],\n",
    "          [-1, 0, -1, 5, -1, 3.1, 2],\n",
    "          [-1, -1, 0, -1, -1, 4, 1.5],\n",
    "          [1.2, 5, -1, 0, 6.7, -1, -1],\n",
    "          [9.2, -1, -1, 6.7, 0, 15.6, -1],\n",
    "          [-1, 3.1, 4, -1, 15.6, 0, -1],\n",
    "          [0.5, 2, 1.5, -1, -1, -1, 0]]\n",
    "graph,route = floyd(matrix)\n",
    "route"
   ]
  },
  {
   "cell_type": "code",
   "execution_count": null,
   "id": "67413073",
   "metadata": {},
   "outputs": [],
   "source": []
  }
 ],
 "metadata": {
  "kernelspec": {
   "display_name": "Python 3 (ipykernel)",
   "language": "python",
   "name": "python3"
  },
  "language_info": {
   "codemirror_mode": {
    "name": "ipython",
    "version": 3
   },
   "file_extension": ".py",
   "mimetype": "text/x-python",
   "name": "python",
   "nbconvert_exporter": "python",
   "pygments_lexer": "ipython3",
   "version": "3.10.12"
  },
  "toc": {
   "base_numbering": 1,
   "nav_menu": {},
   "number_sections": true,
   "sideBar": true,
   "skip_h1_title": false,
   "title_cell": "Table of Contents",
   "title_sidebar": "Contents",
   "toc_cell": false,
   "toc_position": {},
   "toc_section_display": true,
   "toc_window_display": false
  },
  "varInspector": {
   "cols": {
    "lenName": 16,
    "lenType": 16,
    "lenVar": 40
   },
   "kernels_config": {
    "python": {
     "delete_cmd_postfix": "",
     "delete_cmd_prefix": "del ",
     "library": "var_list.py",
     "varRefreshCmd": "print(var_dic_list())"
    },
    "r": {
     "delete_cmd_postfix": ") ",
     "delete_cmd_prefix": "rm(",
     "library": "var_list.r",
     "varRefreshCmd": "cat(var_dic_list()) "
    }
   },
   "types_to_exclude": [
    "module",
    "function",
    "builtin_function_or_method",
    "instance",
    "_Feature"
   ],
   "window_display": false
  }
 },
 "nbformat": 4,
 "nbformat_minor": 5
}
