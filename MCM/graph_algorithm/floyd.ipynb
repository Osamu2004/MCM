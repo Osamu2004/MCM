{
 "cells": [
  {
   "cell_type": "code",
   "execution_count": 1,
   "id": "498adb83",
   "metadata": {},
   "outputs": [
    {
     "name": "stdout",
     "output_type": "stream",
     "text": [
      "Distance: 15.2\n",
      "Route_d: [3, 7, 2, 4, 5]\n",
      "Route: [[0 3 3 3 3 3 3]\n",
      " [3 0 6 3 3 5 6]\n",
      " [6 6 0 6 6 5 6]\n",
      " [0 1 1 0 4 1 1]\n",
      " [3 3 3 3 0 3 3]\n",
      " [1 1 2 1 1 0 1]\n",
      " [1 1 2 1 1 1 0]]\n"
     ]
    }
   ],
   "source": [
    "import numpy as np\n",
    "\n",
    "def floyd(graph, a, b):\n",
    "    n = len(graph)\n",
    "    # 使用numpy初始化\n",
    "    distance = np.array(graph)\n",
    "    # 初始化路由矩阵\n",
    "    route = np.zeros((n, n), dtype=int)\n",
    "    for i in range(n):\n",
    "        for j in range(n):\n",
    "            if graph[i][j] != float('inf') and i != j:\n",
    "                route[i][j] = j\n",
    "\n",
    "    # 开始迭代\n",
    "    for center in range(n):\n",
    "        for start in range(n):\n",
    "            for end in range(n):\n",
    "                if distance[start][center] + distance[center][end] < distance[start][end]:\n",
    "                    route[start][end] = route[start][center]\n",
    "                    distance[start][end] = distance[start][center] + distance[center][end]\n",
    "    route_d = get_route(route, a, b)\n",
    "    return distance, route, route_d, distance[a-1][b-1]\n",
    "\n",
    "def get_route(route, a, b):\n",
    "    path = [a]\n",
    "    current = a - 1\n",
    "    while current != b - 1:\n",
    "        next_hop = route[current][b - 1]\n",
    "        path.append(next_hop + 1)\n",
    "        current = next_hop\n",
    "    return path\n",
    "\n",
    "matrix = [[0, float('inf'), float('inf'), 1.2, 9.2, float('inf'), float('inf')],\n",
    "          [float('inf'), 0, float('inf'), 5, float('inf'), 3.1, 2],\n",
    "          [float('inf'), float('inf'), 0, float('inf'), float('inf'), 4, 1.5],\n",
    "          [1.2, 5, float('inf'), 0, 6.7, float('inf'), float('inf')],\n",
    "          [9.2, float('inf'), float('inf'), 6.7, 0, 15.6, float('inf')],\n",
    "          [float('inf'), 3.1, 4, float('inf'), 15.6, 0, float('inf')],\n",
    "          [float('inf'), 2, 1.5, float('inf'), float('inf'), float('inf'), 0]]\n",
    "a = 3\n",
    "b = 5\n",
    "graph, route, route_d, distance = floyd(matrix, a, b)\n",
    "\n",
    "print(\"Distance:\", distance)\n",
    "print(\"Route_d:\", route_d)\n",
    "print(\"Route:\", np.array(route))\n"
   ]
  },
  {
   "cell_type": "code",
   "execution_count": null,
   "id": "416fc59f",
   "metadata": {},
   "outputs": [],
   "source": []
  }
 ],
 "metadata": {
  "kernelspec": {
   "display_name": "Python 3 (ipykernel)",
   "language": "python",
   "name": "python3"
  },
  "language_info": {
   "codemirror_mode": {
    "name": "ipython",
    "version": 3
   },
   "file_extension": ".py",
   "mimetype": "text/x-python",
   "name": "python",
   "nbconvert_exporter": "python",
   "pygments_lexer": "ipython3",
   "version": "3.10.12"
  },
  "toc": {
   "base_numbering": 1,
   "nav_menu": {},
   "number_sections": true,
   "sideBar": true,
   "skip_h1_title": false,
   "title_cell": "Table of Contents",
   "title_sidebar": "Contents",
   "toc_cell": false,
   "toc_position": {},
   "toc_section_display": true,
   "toc_window_display": false
  },
  "varInspector": {
   "cols": {
    "lenName": 16,
    "lenType": 16,
    "lenVar": 40
   },
   "kernels_config": {
    "python": {
     "delete_cmd_postfix": "",
     "delete_cmd_prefix": "del ",
     "library": "var_list.py",
     "varRefreshCmd": "print(var_dic_list())"
    },
    "r": {
     "delete_cmd_postfix": ") ",
     "delete_cmd_prefix": "rm(",
     "library": "var_list.r",
     "varRefreshCmd": "cat(var_dic_list()) "
    }
   },
   "types_to_exclude": [
    "module",
    "function",
    "builtin_function_or_method",
    "instance",
    "_Feature"
   ],
   "window_display": false
  }
 },
 "nbformat": 4,
 "nbformat_minor": 5
}
